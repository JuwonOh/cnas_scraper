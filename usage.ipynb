{
 "cells": [
  {
   "cell_type": "code",
   "execution_count": 1,
   "metadata": {},
   "outputs": [],
   "source": [
    "import time\n",
    "import cnas_scraper"
   ]
  },
  {
   "cell_type": "code",
   "execution_count": 2,
   "metadata": {
    "scrolled": true
   },
   "outputs": [
    {
     "name": "stdout",
     "output_type": "stream",
     "text": [
      "40 report_urls for all report\n",
      "33 article_urls for all article\n"
     ]
    }
   ],
   "source": [
    "from cnas_scraper import get_report_urls\n",
    "from cnas_scraper import get_article_urls\n",
    "\n",
    "report_urls = get_report_urls(begin_page=1, end_page=2, verbose=True)\n",
    "print('%d report_urls for all report' % len(report_urls))\n",
    "\n",
    "article_urls = get_article_urls(begin_page=1, end_page=2, verbose=True)\n",
    "print('%d article_urls for all article' % len(article_urls))"
   ]
  },
  {
   "cell_type": "code",
   "execution_count": 3,
   "metadata": {},
   "outputs": [
    {
     "name": "stdout",
     "output_type": "stream",
     "text": [
      "url : https://www.cnas.org/publications/reports/negotiating-with-north-korea ..\n",
      "title : \n",
      "Negotiating With North Korea\n",
      "How Will This End?\n",
      " ..\n",
      "date : February 12, 2019 ..\n",
      "author : Patrick M. Cronin ..\n",
      "content : Washington and Seoul remain synchronized on first-order interests, forswearing major economic relief ..\n",
      "content_url : https://s3.amazonaws.com/files.cnas.org/documents/CNAS-Report_North-Korea-How-Does-This-End_Final-WE ..\n",
      "\n",
      "\n",
      "url : https://www.cnas.org/publications/reports/understanding-chinas-ai-strategy ..\n",
      "title : \n",
      "Understanding China's AI Strategy\n",
      "Clues to Chinese Strategic Thinking on Artificial Intelligence an ..\n",
      "date : February 06, 2019 ..\n",
      "author : Gregory C. Allen ..\n",
      "content : Chinese Views on the Importance of AI\n",
      "1. China’s leadership – including President Xi Jinping – belie ..\n",
      "content_url : https://s3.amazonaws.com/files.cnas.org/documents/CNAS-Understanding-Chinas-AI-Strategy-Gregory-C.-A ..\n",
      "\n",
      "\n",
      "url : https://www.cnas.org/publications/reports/a-realistic-path-for-progress-on-iran ..\n",
      "title : \n",
      "A Realistic Path for Progress on Iran\n",
      "12 Guiding Principles to Achieve U.S. Policy Goals\n",
      " ..\n",
      "date : January 29, 2019 ..\n",
      "author : Eric Brewer ..\n",
      "content : This report aims to provide guiding principles and concrete policy suggestions for how to make reali ..\n",
      "content_url : https://s3.amazonaws.com/files.cnas.org/documents/CNAS-Report_Iran-Final.pdf?mtime=20190128145215.pd ..\n",
      "\n",
      "\n",
      "url : https://www.cnas.org/publications/commentary/white-house-ai-executive-order-and-dod-ai-strategy ..\n",
      "title : \n",
      "White House AI Executive Order and DoD AI Strategy\n",
      "CNAS experts weigh in.\n",
      " ..\n",
      "date : February 13, 2019 ..\n",
      "content : This week, the U.S. government released two major new strategic documents on artificial intelligence ..\n",
      "author : Robert O. Work\n",
      "Paul Scharre\n",
      "Gregory C. Allen\n",
      "Kara Frederick\n",
      "Michael Horowitz\n",
      "Elsa B. Kania ..\n",
      "\n",
      "\n",
      "url : https://www.cnas.org/publications/commentary/congress-should-vigorously-oversee-implementation-of-th ..\n",
      "title : \n",
      "Congress Should Vigorously Oversee Implementation of the Mission Act\n",
      " ..\n",
      "date : February 13, 2019 ..\n",
      "content : Summary\n",
      "The draft standards the VA has announced detailing the circumstances under which veterans wi ..\n",
      "author : Kayla M. Williams ..\n",
      "\n",
      "\n",
      "url : https://www.cnas.org/publications/commentary/the-next-u-s-president-should-rejoin-the-iran-nuclear-d ..\n",
      "title : \n",
      "The Next U.S. President Should Rejoin the Iran Nuclear Deal\n",
      "Here's how.\n",
      " ..\n",
      "date : February 12, 2019 ..\n",
      "content : To the surprise of many analysts (us included), Iran has continued to abide by the 2015 nuclear deal ..\n",
      "author : Ilan Goldenberg\n",
      "Eric Brewer ..\n",
      "\n",
      "\n"
     ]
    }
   ],
   "source": [
    "from cnas_scraper import parse_page\n",
    "def pprint(json_object):\n",
    "    for k, v in json_object.items():\n",
    "        print('{} : {} ..'.format(k, str(v)[:100]))\n",
    "    print('\\n')\n",
    "\n",
    "SLEEP = 0.5\n",
    "\n",
    "   \n",
    "for url in report_urls[:3]:\n",
    "    rjson_object = parse_page(url)\n",
    "    pprint(rjson_object)\n",
    "\n",
    "for url in article_urls[:3]:\n",
    "    ajson_object = parse_page(url)\n",
    "    pprint(ajson_object)"
   ]
  },
  {
   "cell_type": "code",
   "execution_count": 4,
   "metadata": {},
   "outputs": [
    {
     "name": "stdout",
     "output_type": "stream",
     "text": [
      "[1 / 10] (February 12, 2019) \n",
      "Negotiating With North Korea\n",
      "How Will This End?\n",
      "\n",
      "[2 / 10] (February 06, 2019) \n",
      "Understanding China's AI Strategy\n",
      "Clues to Chinese Strategic Thinking on Artificial Intelligence and National Security\n",
      "\n",
      "[3 / 10] (January 29, 2019) \n",
      "A Realistic Path for Progress on Iran\n",
      "12 Guiding Principles to Achieve U.S. Policy Goals\n",
      "\n",
      "[4 / 10] (January 24, 2019) \n",
      "Financial Networks of Mass Destruction\n",
      "\n",
      "[5 / 10] (January 15, 2019) \n",
      "Rethinking Requirements and Risk in the New Space Age\n",
      "\n",
      "[6 / 10] (December 02, 2018) \n",
      "Ending Gaza’s Perpetual Crisis\n",
      "A New U.S. Approach\n",
      "\n",
      "Stop scrapping. 6 / 10 report was scrapped\n",
      "The oldest blog article has been created after 2018-12-01\n"
     ]
    }
   ],
   "source": [
    "from cnas_scraper import yield_latest_report\n",
    "\n",
    "begin_date = '2018-12-01'\n",
    "max_num = 10\n",
    "sleep = 1.0\n",
    "\n",
    "for i, json_obj in enumerate(yield_latest_report(begin_date, max_num, sleep)):\n",
    "    title = json_obj['title']\n",
    "    time = json_obj['date']\n",
    "    print('[{} / {}] ({}) {}'.format(i+1, max_num, time, title))"
   ]
  },
  {
   "cell_type": "code",
   "execution_count": 5,
   "metadata": {
    "scrolled": true
   },
   "outputs": [
    {
     "name": "stdout",
     "output_type": "stream",
     "text": [
      "[1 / 5] (February 13, 2019) \n",
      "White House AI Executive Order and DoD AI Strategy\n",
      "CNAS experts weigh in.\n",
      "\n",
      "[2 / 5] (February 13, 2019) \n",
      "Congress Should Vigorously Oversee Implementation of the Mission Act\n",
      "\n",
      "[3 / 5] (February 12, 2019) \n",
      "The Next U.S. President Should Rejoin the Iran Nuclear Deal\n",
      "Here's how.\n",
      "\n",
      "[4 / 5] (February 11, 2019) \n",
      "Nancy Pelosi and Theresa May are Leading on Borrowed Time\n",
      "\n",
      "[5 / 5] (February 11, 2019) \n",
      "Time for the U.S. to Learn Its Lessons from Afghanistan\n",
      "\n"
     ]
    }
   ],
   "source": [
    "from cnas_scraper import yield_latest_article\n",
    "\n",
    "begin_date = '2018-07-01'\n",
    "max_num = 10\n",
    "sleep = 1.0\n",
    "\n",
    "for i, json_obj in enumerate(yield_latest_article(begin_date, max_num, sleep)):\n",
    "    title = json_obj['title']\n",
    "    time = json_obj['date']\n",
    "    print('[{} / {}] ({}) {}'.format(i+1, max_num, time, title))"
   ]
  }
 ],
 "metadata": {
  "kernelspec": {
   "display_name": "Python 3",
   "language": "python",
   "name": "python3"
  },
  "language_info": {
   "codemirror_mode": {
    "name": "ipython",
    "version": 3
   },
   "file_extension": ".py",
   "mimetype": "text/x-python",
   "name": "python",
   "nbconvert_exporter": "python",
   "pygments_lexer": "ipython3",
   "version": "3.7.1"
  },
  "varInspector": {
   "cols": {
    "lenName": 16,
    "lenType": 16,
    "lenVar": 40
   },
   "kernels_config": {
    "python": {
     "delete_cmd_postfix": "",
     "delete_cmd_prefix": "del ",
     "library": "var_list.py",
     "varRefreshCmd": "print(var_dic_list())"
    },
    "r": {
     "delete_cmd_postfix": ") ",
     "delete_cmd_prefix": "rm(",
     "library": "var_list.r",
     "varRefreshCmd": "cat(var_dic_list()) "
    }
   },
   "oldHeight": 122.545454,
   "position": {
    "height": "40px",
    "left": "1007.45px",
    "right": "20px",
    "top": "139px",
    "width": "250px"
   },
   "types_to_exclude": [
    "module",
    "function",
    "builtin_function_or_method",
    "instance",
    "_Feature"
   ],
   "varInspector_section_display": "none",
   "window_display": true
  }
 },
 "nbformat": 4,
 "nbformat_minor": 2
}
