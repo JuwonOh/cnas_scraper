{
 "cells": [
  {
   "cell_type": "code",
   "execution_count": 1,
   "metadata": {},
   "outputs": [],
   "source": [
    "import time\n",
    "import cnas_scraper"
   ]
  },
  {
   "cell_type": "code",
   "execution_count": 2,
   "metadata": {
    "scrolled": true
   },
   "outputs": [
    {
     "name": "stdout",
     "output_type": "stream",
     "text": [
      "40 report_urls for all report\n",
      "33 article_urls for all article\n"
     ]
    }
   ],
   "source": [
    "from cnas_scraper import get_report_urls\n",
    "from cnas_scraper import get_article_urls\n",
    "\n",
    "report_urls = get_report_urls(begin_page=1, end_page=2, verbose=True)\n",
    "print('%d report_urls for all report' % len(report_urls))\n",
    "\n",
    "article_urls = get_article_urls(begin_page=1, end_page=2, verbose=True)\n",
    "print('%d article_urls for all article' % len(article_urls))"
   ]
  },
  {
   "cell_type": "code",
   "execution_count": 4,
   "metadata": {},
   "outputs": [
    {
     "name": "stdout",
     "output_type": "stream",
     "text": [
      "url : https://www.cnas.org/publications/reports/negotiating-with-north-korea ..\n",
      "title : \n",
      "Negotiating With North Korea\n",
      "How Will This End?\n",
      " ..\n",
      "date : February 12, 2019 ..\n",
      "author : Patrick M. Cronin ..\n",
      "content : Washington and Seoul remain synchronized on first-order interests, forswearing major economic relief ..\n",
      "content_url : https://s3.amazonaws.com/files.cnas.org/documents/CNAS-Report_North-Korea-How-Does-This-End_Final-WE ..\n",
      "\n",
      "\n",
      "url : https://www.cnas.org/publications/reports/understanding-chinas-ai-strategy ..\n",
      "title : \n",
      "Understanding China's AI Strategy\n",
      "Clues to Chinese Strategic Thinking on Artificial Intelligence an ..\n",
      "date : February 06, 2019 ..\n",
      "author : Gregory C. Allen ..\n",
      "content : Chinese Views on the Importance of AI\n",
      "1. China’s leadership – including President Xi Jinping – belie ..\n",
      "content_url : https://s3.amazonaws.com/files.cnas.org/documents/CNAS-Understanding-Chinas-AI-Strategy-Gregory-C.-A ..\n",
      "\n",
      "\n",
      "url : https://www.cnas.org/publications/reports/a-realistic-path-for-progress-on-iran ..\n",
      "title : \n",
      "A Realistic Path for Progress on Iran\n",
      "12 Guiding Principles to Achieve U.S. Policy Goals\n",
      " ..\n",
      "date : January 29, 2019 ..\n",
      "author : Eric Brewer ..\n",
      "content : This report aims to provide guiding principles and concrete policy suggestions for how to make reali ..\n",
      "content_url : https://s3.amazonaws.com/files.cnas.org/documents/CNAS-Report_Iran-Final.pdf?mtime=20190128145215 ..\n",
      "\n",
      "\n",
      "url : https://www.cnas.org/publications/reports/financial-networks-of-mass-destruction ..\n",
      "title : \n",
      "Financial Networks of Mass Destruction\n",
      " ..\n",
      "date : January 24, 2019 ..\n",
      "author : Elizabeth Rosenberg ..\n",
      "content : Executive Summary\n",
      "The international community has long prioritized reducing the risk of weapons of m ..\n",
      "content_url : https://s3.amazonaws.com/files.cnas.org/documents/CNAS-Report_Financial-Networks_EES_Final-web.pdf?m ..\n",
      "\n",
      "\n",
      "url : https://www.cnas.org/publications/reports/rethinking-requirements-and-risk-in-the-new-space-age ..\n",
      "title : \n",
      "Rethinking Requirements and Risk in the New Space Age\n",
      " ..\n",
      "date : January 15, 2019 ..\n",
      "author : John J. Klein ..\n",
      "content : Recent advancements in the commercial space launch and small satellite sectors are revolutionizing h ..\n",
      "content_url : https://s3.amazonaws.com/files.cnas.org/documents/Space-Policy-for-the-Trump-Administration.pdf?mtim ..\n",
      "\n",
      "\n",
      "url : https://www.cnas.org/publications/reports/ending-gazas-perpetual-crisis ..\n",
      "title : \n",
      "Ending Gaza’s Perpetual Crisis\n",
      "A New U.S. Approach\n",
      " ..\n",
      "date : December 02, 2018 ..\n",
      "author : Hady Amr ..\n",
      "content : U.S. policy on the Israeli-Palestinian conflict has focused primarily on final status negotiations b ..\n",
      "content_url : https://s3.amazonaws.com/files.cnas.org/documents/CNAS-Report-Gaza-final-v2-web2.pdf?mtime=201901021 ..\n",
      "\n",
      "\n",
      "url : https://www.cnas.org/publications/reports/summary-of-findings-and-recommendations-1 ..\n",
      "title : \n",
      "Super Soldiers: Summary of Findings and Recommendations\n",
      " ..\n",
      "date : November 28, 2018 ..\n",
      "author : Paul Scharre ..\n",
      "content : Review and update its firing limits for shoulder-fired heavy weapons, such as the AT4, LAW, and Carl ..\n",
      "content_url : https://s3.amazonaws.com/files.cnas.org/documents/CNAS-Report-Super-Soldiers-final.pdf?mtime=2018112 ..\n",
      "\n",
      "\n",
      "url : https://www.cnas.org/publications/reports/human-performance-enhancement-1 ..\n",
      "title : \n",
      "Human Performance Enhancement\n",
      " ..\n",
      "date : November 07, 2018 ..\n",
      "author : Paul Scharre ..\n",
      "content : Introduction\n",
      "Human enhancement is a broad topic, and attempts by militaries to modify the human body ..\n",
      "content_url : https://s3.amazonaws.com/files.cnas.org/documents/CNAS_Super-Soldiers_6_Human-Performance-Enhancemen ..\n",
      "\n",
      "\n",
      "url : https://www.cnas.org/publications/reports/the-financing-of-wmd-proliferation ..\n",
      "title : \n",
      "The Financing of WMD Proliferation\n",
      "Conducting Risk Assessments\n",
      " ..\n",
      "date : October 30, 2018 ..\n",
      "author : Jonathan Brewer ..\n",
      "content : Key Takeaways\n",
      "Despite the threat from the financing of proliferation of nuclear and other weapons of ..\n",
      "content_url : https://s3.amazonaws.com/files.cnas.org/documents/CNASReport-FoPRiskAssessment-FINAL-min.pdf?mtime=2 ..\n",
      "\n",
      "\n",
      "url : https://www.cnas.org/publications/reports/emerging-technologies-1 ..\n",
      "title : \n",
      "Emerging Technologies\n",
      " ..\n",
      "date : October 23, 2018 ..\n",
      "author : Paul Scharre ..\n",
      "content : Novel Materials\n",
      "A critical factor in soldier protection is the fundamental building block of body ar ..\n",
      "content_url : https://s3.amazonaws.com/files.cnas.org/documents/CNAS_Super-Soldiers_5_Emerging-Technologies-FINAL. ..\n",
      "\n",
      "\n",
      "url : https://www.cnas.org/publications/commentary/white-house-ai-executive-order-and-dod-ai-strategy ..\n",
      "title : \n",
      "White House AI Executive Order and DoD AI Strategy\n",
      "CNAS experts weigh in.\n",
      " ..\n",
      "date : February 13, 2019 ..\n",
      "content : This week, the U.S. government released two major new strategic documents on artificial intelligence ..\n",
      "author : Robert O. Work\n",
      "Paul Scharre\n",
      "Gregory C. Allen\n",
      "Kara Frederick\n",
      "Michael Horowitz\n",
      "Elsa B. Kania ..\n",
      "\n",
      "\n",
      "url : https://www.cnas.org/publications/commentary/congress-should-vigorously-oversee-implementation-of-th ..\n",
      "title : \n",
      "Congress Should Vigorously Oversee Implementation of the Mission Act\n",
      " ..\n",
      "date : February 13, 2019 ..\n",
      "content : Summary\n",
      "The draft standards the VA has announced detailing the circumstances under which veterans wi ..\n",
      "author : Kayla M. Williams ..\n",
      "\n",
      "\n",
      "url : https://www.cnas.org/publications/commentary/the-next-u-s-president-should-rejoin-the-iran-nuclear-d ..\n",
      "title : \n",
      "The Next U.S. President Should Rejoin the Iran Nuclear Deal\n",
      "Here's how.\n",
      " ..\n",
      "date : February 12, 2019 ..\n",
      "content : To the surprise of many analysts (us included), Iran has continued to abide by the 2015 nuclear deal ..\n",
      "author : Ilan Goldenberg\n",
      "Eric Brewer ..\n",
      "\n",
      "\n"
     ]
    }
   ],
   "source": [
    "from cnas_scraper import parse_page\n",
    "def pprint(json_object):\n",
    "    for k, v in json_object.items():\n",
    "        print('{} : {} ..'.format(k, str(v)[:100]))\n",
    "    print('\\n')\n",
    "\n",
    "SLEEP = 0.5\n",
    "\n",
    "   \n",
    "for url in report_urls[:10]:\n",
    "    rjson_object = parse_page(url)\n",
    "    pprint(rjson_object)\n",
    "\n",
    "for url in article_urls[:3]:\n",
    "    ajson_object = parse_page(url)\n",
    "    pprint(ajson_object)"
   ]
  },
  {
   "cell_type": "code",
   "execution_count": 10,
   "metadata": {},
   "outputs": [
    {
     "data": {
      "text/plain": [
       "{'url': 'https://www.cnas.org/publications/reports/negotiating-with-north-korea',\n",
       " 'title': '\\nNegotiating With North Korea\\nHow Will This End?\\n',\n",
       " 'date': 'February 12, 2019',\n",
       " 'author': 'Patrick M. Cronin',\n",
       " 'content': 'Washington and Seoul remain synchronized on first-order interests, forswearing major economic relief until Pyongyang commits to a meaningful plan of action for denuclearization. But the two allies could easily diverge on what constitutes sufficient progress to warrant effectively rewarding the Kim regime. In advance of negotiations that lie ahead, officials at the highest levels in Washington and Seoul should address gaps in their definitions of success and desired outcomes regarding the dual-track peace and denuclearization processes. Each may need to make compromises to ensure North Korea does not successfully unravel the seams of alliance solidarity. Should diplomacy succeed and make rapid headway, the United States and South Korea will want to be prepared to revamp the U.S.-ROK alliance for managing contingencies and emerging threats beyond the scope of the peninsula.\\nPlanning for failure – for the potential shocks that would accompany a breakdown in negotiations with North Korea – is just as critical as planning for success. Failure can emerge in manifold ways, ranging from the fundamental issue of Kim’s foot-dragging or cheating on denuclearization steps while reaping economic benefits to a crisis-induced interruption to renewed provocations and even the use of force. The United States must be prepared to work with South Korea and other countries to dial up economic and diplomatic pressure on Pyongyang if it does not move beyond moratoriums on missile and nuclear tests and largely symbolic gestures around secondary elements of its weapons programs. Additionally, because North Korea could break the relative peace with a sudden show of force, it is critical that the U.S.-ROK alliance demonstrate continued vigilance and readiness to deter such a brazen turn of fortune. Finally, because North Korea may use this period of diplomacy to strengthen its nuclear and missile programs while simultaneously trying to weaken the sanctions arrayed against it, the United States should be prepared to revert to a robust policy of deterrence and containment.\\nThe stakes of U.S. diplomacy with the Kim regime extend far beyond the scope of the Korean Peninsula. Outcomes of diplomacy will be critically determinative of the regional balance of power and the security architecture of Northeast Asia and the wider Asia-Pacific region. In this paper, we begin with an assessment of the current trajectory of U.S. engagement with North Korea. Section one offers an analysis of the desired end states of North Korea, South Korea, China, and the United States and how these concepts inform each of the key players’ strategies. Based on this stakeholder analysis, the second section sets out a more realistic set of goals and projections for negotiations with Pyongyang in the next two years – bookended by arms control on one end of the spectrum and arms reduction on the other. Finally, section three, concludes with recommendations for the United States that will not only sustain diplomatic momentum in the near- to medium-term future but also enhance readiness and interoperability with South Korea and Japan in the event of a diplomatic breakdown.\\nSummary of Recommendations\\nIn 2019, the United States and its allies must simultaneously prepare for two broad contingencies: first, a breakthrough denoted by Pyongyang undertaking significant steps toward dismantling its nuclear capabilities; and second, failure in the form of a protracted impasse or an abrupt, crisis-induced short-circuiting of negotiations. With a clear understanding of how the interests and aspirational end states of major stakeholders overlap, converge, or clash, the United States can navigate near-term uncertainty through risk mitigation measures while also incrementally adjusting its relationships with allies to promote its long-term interests in a changing Northeast Asia. \\nThe first tranche of recommendations is intended to guide U.S. policymakers in preparation for a potential breakthrough with North Korea.\\nMeasure progress by evaluating North Korean actions against empirical criteria for denuclearization and seek international support to backstop a robust verification process.\\nSecure at least a partial material declaration, ideally one that includes the numbers and types of nuclear weapons in North Korea’s arsenal and long-range intercontinental ballistic missiles (ICBMs) – but with the operating assumption that this declaration will be incomplete and if necessary, assembled in segments over the next year or two.Negotiate a moratorium on North Korea’s production of all weapons-grade fissile material.Test North Korea’s willingness to work with international inspectors, beginning with expert visits to test sites based on cooperation between the United States and the Comprehensive Nuclear-Test-Ban Treaty Organization.Conduct, in conjunction with South Korea, basic threat measurements based on official statements from North Korea’s Politburo, speeches, and state newspaper editorials.Keep Congress fully apprised of North Korea’s actions, statements, and perceived intentions, as a crucial way to prevent an executive-legislative-branch breakdown in the potential implementation of any accord. Meet significant denuclearization actions, made in good faith, with steps designed to underscore the potential for transformed relations between the United States and North Korea and with appropriately sequenced and scoped inducements. \\nMaintain direct, regular bilateral diplomacy with North Korea and use bilateral or occasional trilateral forums to advance diplomatic objectives with South Korea, China, Japan, and Russia.\\nAccept a partial deal as a next step, provided that it delivers major elements of North Korea’s nuclear and missile programs, above and beyond inspections of the Punggye-ri nuclear and Tongchang-ri ICBM test sites and even the closing of fissile material production at Yongbyon. The additional steps might include a verifiable ban on all fissile material production or the destruction of longrange transporter erector launchers or nuclear warheads. \\nBe prepared to loosen restrictions on some investments to help foster inter-Korean ties, including with respect to railroad projects and tourist and economic zones, but in proportion to verifiable North Korean actions, not words, about denuclearization.\\nConsider placing funds from sanctions relief and potential investments into an escrow fund that can only be accessed after substantial denuclearization steps are taken.\\nAccede to a political declaration as a good-faith intention to commence with replacing the 1953 armistice – but only after Pyongyang agrees to a firm set of steps and timetable for substantive denuclearization steps that can be verified.\\nLaunch a discussion with South Korea on the future raison d’être and the disposition of the alliance, both as it pertains to the peninsula and the broader Asia-Pacific region, should peace processes progress\\nClarify U.S. goals for a future Korean Peninsula and Northeast Asian regional architecture, and then for South Korea and Japan, as well as China and Russia, based on their aspirational plans and potential red lines.\\nPromote serious conventional arms control talks, led by South Korea, that tackle North Korea’s numerical advantages in conventional forces, beginning with entrenched artillery, cannons, and rocket launchers in the Kaesong Heights. \\nSupport the Moon administration’s economic and diplomatic engagement with the Association of Southeast Asian Nations (ASEAN) under its marquee “New Southern Policy”4 as an initiative complementary to the United States’ Free and Open Indo-Pacific strategy, and identify areas for cooperation.\\nContinue to articulate for North Korea a vision of what a nuclear-free future can look like, including the lifting of U.N. Security Council sanctions, bilateral aid, infrastructure development, and investments from the World Bank and Asian Development Bank. Simultaneously, in preparation for a continuation of the current impasse or an abrupt breakdown of negotiations, the United States and its allies must ensure that their coercive diplomatic, economic, and military toolkit remains within easy reach.\\nPrepare to incrementally dial up and dial down economic, diplomatic, and military instruments of coercion without risking an all-out conflict spiral.\\nRemain open to alternative interpretations regarding the degree of harmony or internecine friction within Pyongyang, with the aim of strengthening Kim’s ability and willingness to deliver on the promise of denuclearization.\\nMaintain as much economic pressure, as well as diplomatic and political pressure (e.g., over human rights), as possible on North Korea until it accepts a substantive plan for denuclearization.\\nDetermine the point at which the United States should walk away from negotiations with Kim – e.g., should he end the moratorium on missile or nuclear launches.\\nEngage in risk mitigation exercises in conjunction with South Korea and Japan in the event that talks languish or fail.\\nEnsure a strategy that prepares for neither peace nor war, with a plan for dialing up comprehensive economic and diplomatic pressure as well as stepping up military deterrence and defense.\\nFind creative ways to maintain readiness and deterrence in preparation for potential crises, even as confidence-building measures progress and other calls for reducing military power grow more pronounced (“control the controllables”).\\n\\nEnsure that modifications to military exercises preserve sufficient deterrence should talks fail abruptly.\\nPrepare to announce and reinstate Ulchi Freedom Guardian and Vigilant Ace combined military exercises with South Korea should Pyongyang resume a provocative posture of testing weapons, including high-tech tactical weapons aimed at Seoul. \\nBolster U.S.-Japan military readiness through both exercises and further steps for improving layered missile defense.\\nStep up joint cyber offense and defense capabilities, in conjunction with South Korea and Japan, to thwart North Korea’s use of cyber warfare.\\nEnsure a strategy that prepares for neither peace nor war, with a plan for dialing up comprehensive economic and diplomatic pressure as well as stepping up military deterrence and defense. \\nGiven the contending major power interests at play, the next two years represent a highly mutable phase of diplomacy that will serve as a prelude to a significant breakthrough, devolve into failure once again, or settle into some in-between dynamic equilibrium. Even as diplomacy proceeds in fits and starts during this interim phase, there is an urgent need for disciplined thinking about where this process is headed over time. Structurally, the mere act of engaging North Korea in high-level diplomacy could be construed in Pyongyang as an indication that the political will of its key adversaries has been broken. At the twilight of the Korean War, this is at least one of the main reasons armistice talks dragged on for two costly years after the United States opted to seek a cease-fire on the basis of the status quo ante in July 1951. In the absence of long-range assessments, U.S. negotiators today risk reliving General Matthew Ridgway’s reflection at the start of cease-fire talks with North Korea, that “at the very start we [the United States] made a concession that we early had cause to regret.”5\\nRead the full report.\\n\\nDownload PDF',\n",
       " 'content_url': 'https://s3.amazonaws.com/files.cnas.org/documents/CNAS-Report_North-Korea-How-Does-This-End_Final-WEB-1.pdf?mtime=20190204114900'}"
      ]
     },
     "execution_count": 10,
     "metadata": {},
     "output_type": "execute_result"
    }
   ],
   "source": [
    "import re\n",
    "ajson_object = parse_page(report_urls[0])\n",
    "ajson_object"
   ]
  },
  {
   "cell_type": "code",
   "execution_count": null,
   "metadata": {},
   "outputs": [],
   "source": [
    "from cnas_scraper import yield_latest_report\n",
    "\n",
    "begin_date = '2018-12-01'\n",
    "max_num = 10\n",
    "sleep = 1.0\n",
    "\n",
    "for i, json_obj in enumerate(yield_latest_report(begin_date, max_num, sleep)):\n",
    "    title = json_obj['title']\n",
    "    time = json_obj['date']\n",
    "    print('[{} / {}] ({}) {}'.format(i+1, max_num, time, title))"
   ]
  },
  {
   "cell_type": "code",
   "execution_count": null,
   "metadata": {
    "scrolled": true
   },
   "outputs": [],
   "source": [
    "from cnas_scraper import yield_latest_article\n",
    "\n",
    "begin_date = '2018-07-01'\n",
    "max_num = 5\n",
    "sleep = 1.0\n",
    "\n",
    "for i, json_obj in enumerate(yield_latest_article(begin_date, max_num, sleep)):\n",
    "    title = json_obj['title']\n",
    "    time = json_obj['date']\n",
    "    print('[{} / {}] ({}) {}'.format(i+1, max_num, time, title))"
   ]
  }
 ],
 "metadata": {
  "kernelspec": {
   "display_name": "Python 3",
   "language": "python",
   "name": "python3"
  },
  "language_info": {
   "codemirror_mode": {
    "name": "ipython",
    "version": 3
   },
   "file_extension": ".py",
   "mimetype": "text/x-python",
   "name": "python",
   "nbconvert_exporter": "python",
   "pygments_lexer": "ipython3",
   "version": "3.7.1"
  },
  "varInspector": {
   "cols": {
    "lenName": 16,
    "lenType": 16,
    "lenVar": 40
   },
   "kernels_config": {
    "python": {
     "delete_cmd_postfix": "",
     "delete_cmd_prefix": "del ",
     "library": "var_list.py",
     "varRefreshCmd": "print(var_dic_list())"
    },
    "r": {
     "delete_cmd_postfix": ") ",
     "delete_cmd_prefix": "rm(",
     "library": "var_list.r",
     "varRefreshCmd": "cat(var_dic_list()) "
    }
   },
   "oldHeight": 122.545454,
   "position": {
    "height": "40px",
    "left": "1007.45px",
    "right": "20px",
    "top": "139px",
    "width": "250px"
   },
   "types_to_exclude": [
    "module",
    "function",
    "builtin_function_or_method",
    "instance",
    "_Feature"
   ],
   "varInspector_section_display": "none",
   "window_display": true
  }
 },
 "nbformat": 4,
 "nbformat_minor": 2
}
